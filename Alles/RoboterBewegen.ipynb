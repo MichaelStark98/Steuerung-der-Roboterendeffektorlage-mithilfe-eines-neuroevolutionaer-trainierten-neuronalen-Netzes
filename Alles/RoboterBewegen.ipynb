{
 "cells": [
  {
   "cell_type": "code",
   "execution_count": 1,
   "metadata": {},
   "outputs": [
    {
     "name": "stdout",
     "output_type": "stream",
     "text": [
      "[2.96705972839, 2.09439510239, 2.96705972839, 2.09439510239, 2.96705972839, 2.09439510239, 3.05432619099]\n",
      "[-2.96705972839, -2.09439510239, -2.96705972839, -2.09439510239, -2.96705972839, -2.09439510239, -3.05432619099]\n"
     ]
    },
    {
     "ename": "error",
     "evalue": "Not connected to physics server.",
     "output_type": "error",
     "traceback": [
      "\u001b[1;31m---------------------------------------------------------------------------\u001b[0m",
      "\u001b[1;31merror\u001b[0m                                     Traceback (most recent call last)",
      "\u001b[1;32m~\\AppData\\Local\\Temp\\ipykernel_14504\\2040706830.py\u001b[0m in \u001b[0;36m<module>\u001b[1;34m\u001b[0m\n\u001b[0;32m     25\u001b[0m \u001b[1;32mwhile\u001b[0m\u001b[1;33m(\u001b[0m\u001b[0mrun\u001b[0m\u001b[1;33m)\u001b[0m\u001b[1;33m:\u001b[0m\u001b[1;33m\u001b[0m\u001b[1;33m\u001b[0m\u001b[0m\n\u001b[0;32m     26\u001b[0m \u001b[1;33m\u001b[0m\u001b[0m\n\u001b[1;32m---> 27\u001b[1;33m     \u001b[0mevents\u001b[0m \u001b[1;33m=\u001b[0m \u001b[0mp\u001b[0m\u001b[1;33m.\u001b[0m\u001b[0mgetKeyboardEvents\u001b[0m\u001b[1;33m(\u001b[0m\u001b[1;33m)\u001b[0m\u001b[1;33m\u001b[0m\u001b[1;33m\u001b[0m\u001b[0m\n\u001b[0m\u001b[0;32m     28\u001b[0m     \u001b[1;32mif\u001b[0m \u001b[0mlen\u001b[0m\u001b[1;33m(\u001b[0m\u001b[0mevents\u001b[0m\u001b[1;33m)\u001b[0m \u001b[1;33m!=\u001b[0m \u001b[1;36m0\u001b[0m\u001b[1;33m:\u001b[0m\u001b[1;33m\u001b[0m\u001b[1;33m\u001b[0m\u001b[0m\n\u001b[0;32m     29\u001b[0m         \u001b[0mkey\u001b[0m \u001b[1;33m=\u001b[0m \u001b[0mlist\u001b[0m\u001b[1;33m(\u001b[0m\u001b[0mevents\u001b[0m\u001b[1;33m.\u001b[0m\u001b[0mkeys\u001b[0m\u001b[1;33m(\u001b[0m\u001b[1;33m)\u001b[0m\u001b[1;33m)\u001b[0m\u001b[1;33m[\u001b[0m\u001b[1;36m0\u001b[0m\u001b[1;33m]\u001b[0m\u001b[1;33m\u001b[0m\u001b[1;33m\u001b[0m\u001b[0m\n",
      "\u001b[1;31merror\u001b[0m: Not connected to physics server."
     ]
    }
   ],
   "source": [
    "import sys\n",
    "import os\n",
    "from src.botEnv import botEnv\n",
    "import random\n",
    "import neat\n",
    "import pybullet as p\n",
    "import time\n",
    "import math\n",
    "import numpy as np\n",
    "\n",
    "\n",
    "\n",
    "\n",
    "#Roboter Steuern über die verschiedene Tasten A1: left/right; A2: up/down, A3:K/L, A4:N/M, A5:H/J, A6:U/I, A7:O/P\n",
    "#Das Fenster der Simulation muss geöffnet sein, damit die Tastenaktionen ausgeführt werden\n",
    "#\n",
    "\n",
    "p.connect(p.GUI)\n",
    "p.setGravity(0,0,0)\n",
    "bot = botEnv(startPos = [0,0,0], numAxis = 7)\n",
    "print(bot.upperLimits)\n",
    "print(bot.lowerLimits)\n",
    "spher = bot.getBotSpherical()\n",
    "run = True\n",
    "while(run):\n",
    "\n",
    "    events = p.getKeyboardEvents()\n",
    "    if len(events) != 0:\n",
    "        key = list(events.keys())[0]\n",
    "        #print(key)\n",
    "        if key == 65295:  #left\n",
    "            bot.moveDir[0] = 1\n",
    "            bot.moveStep()\n",
    "        elif key == 65296: #right\n",
    "            bot.moveDir[0] = -1\n",
    "            bot.moveStep()\n",
    "        elif key == 65297: #up\n",
    "            bot.moveDir[1] = -1\n",
    "            bot.moveStep()\n",
    "        elif key == 65298: #down\n",
    "            bot.moveDir[1] = 1\n",
    "            bot.moveStep()\n",
    "        elif key == 108: #l\n",
    "            bot.moveDir[2] = -1\n",
    "            bot.moveStep()\n",
    "        elif key == 107: #K\n",
    "            bot.moveDir[2] = 1\n",
    "            bot.moveStep()\n",
    "        elif key == 110: #N\n",
    "            bot.moveDir[3] = -1\n",
    "            bot.moveStep()\n",
    "        elif key == 109: #M\n",
    "            bot.moveDir[3] = 1\n",
    "            bot.moveStep()\n",
    "        elif key == 104: #H\n",
    "            bot.moveDir[4] = -1\n",
    "            bot.moveStep()\n",
    "        elif key == 106: #J\n",
    "            bot.moveDir[4] = 1\n",
    "            bot.moveStep()\n",
    "        elif key == 117: #U\n",
    "            bot.moveDir[5] = -1\n",
    "            bot.moveStep()\n",
    "        elif key == 105: #I\n",
    "            bot.moveDir[5] = 1\n",
    "            bot.moveStep()\n",
    "        elif key == 111: #O\n",
    "            bot.moveDir[6] = -1\n",
    "            bot.moveStep()\n",
    "        elif key == 112: #P\n",
    "            bot.moveDir[6] = 1\n",
    "            bot.moveStep()\n",
    "        elif key == 99:\n",
    "            spher = bot.getBotSpherical()\n",
    "            print('x: ', p.getLinkState(bot.botId,bot.numJoints-1)[0][0],\n",
    "                 'y: ', p.getLinkState(bot.botId,bot.numJoints-1)[0][1],\n",
    "                 'z: ', p.getLinkState(bot.botId,bot.numJoints-1)[0][2])\n",
    "            print('Spherical ', bot.getBotSpherical())\n",
    "            #print('Joint1 Pos:', p.getJointState(bot.botId, 1))\n",
    "            #print('zPos', p.getLinkState(bot.botId,bot.numJoints-1)[0][2])\n",
    "            #print('diff', p.getLinkState(bot.botId,bot.numJoints-1)[0][2]-p.getLinkState(bot.botId,0)[0][2])\n",
    "        elif key == 120:  \n",
    "            headPosSpher = bot.getBotSpherical()\n",
    "            headPos = bot.getBotHeadPos()\n",
    "            print('angepasste räumliche Polarkoordinaten', headPosSpher)\n",
    "            print('kartesische Koordinaten', headPos)\n",
    "            #headEuler = p.getEulerFromQuaternion(headOr)\n",
    "            #print('Euler', headEuler)\n",
    "            #print('Distance: ', dist)\n",
    "            #print('diff Rad: ', headPosSpher[0]-goalSpher[0][0])\n",
    "            #print('goalTheata: ', goalSpher[0][1])\n",
    "            #print('HeadTheata:', headPosSpher[1])\n",
    "            #print('diff Theta: ', headPosSpher[1]-goalSpher[0][1])\n",
    "        for i in range(6):\n",
    "            bot.moveDir[i] = 0\n",
    "    p.stepSimulation()  \n",
    "    time.sleep(1/240)\n",
    "\n",
    "p.disconnect()\n"
   ]
  },
  {
   "cell_type": "markdown",
   "metadata": {},
   "source": [
    "import Training7RRel\n",
    "Training7RRel.start()\n"
   ]
  },
  {
   "cell_type": "code",
   "execution_count": null,
   "metadata": {},
   "outputs": [],
   "source": []
  },
  {
   "cell_type": "code",
   "execution_count": null,
   "metadata": {},
   "outputs": [],
   "source": []
  }
 ],
 "metadata": {
  "kernelspec": {
   "display_name": "Python 3 (ipykernel)",
   "language": "python",
   "name": "python3"
  },
  "language_info": {
   "codemirror_mode": {
    "name": "ipython",
    "version": 3
   },
   "file_extension": ".py",
   "mimetype": "text/x-python",
   "name": "python",
   "nbconvert_exporter": "python",
   "pygments_lexer": "ipython3",
   "version": "3.9.13"
  }
 },
 "nbformat": 4,
 "nbformat_minor": 4
}
